{
 "cells": [
  {
   "cell_type": "markdown",
   "metadata": {
    "Collapsed": "false"
   },
   "source": [
    "# Classification Models in sklearn\n",
    "\n",
    "**Building Classifier Models to Predict House Prices in King County, USA**\n",
    "\n",
    "**Goal:** The objective of this project is to build classifier models to predict a binary variable (price_gt_1M) that determines if the value of a house is greater than/equal to 1 million or less than 1 million. A requirement for this project is the use of sklearn pipelines that contain the preprocessing steps and the model estimation step"
   ]
  },
  {
   "cell_type": "markdown",
   "metadata": {
    "Collapsed": "false"
   },
   "source": [
    "## Preliminaries"
   ]
  },
  {
   "cell_type": "code",
   "execution_count": 3,
   "metadata": {
    "Collapsed": "false"
   },
   "outputs": [],
   "source": [
    "# To auto-reload modules in jupyter notebook (so that changes in files *.py doesn't require manual reloading):\n",
    "# https://stackoverflow.com/questions/5364050/reloading-submodules-in-ipython\n",
    "%load_ext autoreload\n",
    "%autoreload 2"
   ]
  },
  {
   "cell_type": "markdown",
   "metadata": {
    "Collapsed": "false"
   },
   "source": [
    "Import commonly used libraries and magic command for inline plotting"
   ]
  },
  {
   "cell_type": "code",
   "execution_count": 4,
   "metadata": {
    "Collapsed": "false"
   },
   "outputs": [],
   "source": [
    "import numpy as np\n",
    "import pandas as pd\n",
    "import matplotlib.pyplot as plt\n",
    "import seaborn as sns"
   ]
  },
  {
   "cell_type": "code",
   "execution_count": 5,
   "metadata": {},
   "outputs": [],
   "source": [
    "%matplotlib inline"
   ]
  },
  {
   "cell_type": "markdown",
   "metadata": {
    "Collapsed": "false"
   },
   "source": [
    "## Read in raw data"
   ]
  },
  {
   "cell_type": "markdown",
   "metadata": {},
   "source": [
    "The data for this project can be found in `./data/kc_house_data_classification.csv`."
   ]
  },
  {
   "cell_type": "code",
   "execution_count": 7,
   "metadata": {
    "Collapsed": "false"
   },
   "outputs": [],
   "source": [
    "# Read csv file into panda dataframe\n",
    "housing_df = pd.read_csv(\"./data/kc_house_data_classification.csv\")"
   ]
  },
  {
   "cell_type": "markdown",
   "metadata": {},
   "source": [
    "Some preliminary data prep has been completed by Prof. Mark Isken to provide the target variable in the `kc_house_data_classification.csv` file, which has been read into the `housing_df` object in this notebook. The target variable created in the data prep is `price_gt_1M` which is a binary variable:\n",
    "\n",
    "* 1 - house price is greater than or equal to 1 million dollars\n",
    "* 0 - house price is less than a million dollars\n",
    "\n",
    "The data prep code is available in the `hw1_sklearn_dataprep.ipynb` notebook"
   ]
  },
  {
   "cell_type": "markdown",
   "metadata": {},
   "source": [
    "## EDA\n",
    "\n",
    "Introducing pandas-profiling and Sweetviz to create interactive HTML based reports. (NB: The code cells for the installation and use of pandas-profiling and Sweetviz were executed in the classic jupyter notebook)"
   ]
  },
  {
   "cell_type": "code",
   "execution_count": 8,
   "metadata": {
    "tags": []
   },
   "outputs": [
    {
     "name": "stdout",
     "output_type": "stream",
     "text": [
      "<class 'pandas.core.frame.DataFrame'>\n",
      "RangeIndex: 21613 entries, 0 to 21612\n",
      "Data columns (total 19 columns):\n",
      " #   Column         Non-Null Count  Dtype  \n",
      "---  ------         --------------  -----  \n",
      " 0   bedrooms       21613 non-null  int64  \n",
      " 1   bathrooms      21613 non-null  float64\n",
      " 2   sqft_living    21613 non-null  int64  \n",
      " 3   sqft_lot       21613 non-null  int64  \n",
      " 4   floors         21613 non-null  float64\n",
      " 5   waterfront     21613 non-null  int64  \n",
      " 6   view           21613 non-null  int64  \n",
      " 7   condition      21613 non-null  int64  \n",
      " 8   grade          21613 non-null  int64  \n",
      " 9   sqft_above     21613 non-null  int64  \n",
      " 10  sqft_basement  21613 non-null  int64  \n",
      " 11  yr_built       21613 non-null  int64  \n",
      " 12  yr_renovated   21613 non-null  int64  \n",
      " 13  zipcode        21613 non-null  int64  \n",
      " 14  lat            21613 non-null  float64\n",
      " 15  long           21613 non-null  float64\n",
      " 16  sqft_living15  21613 non-null  int64  \n",
      " 17  sqft_lot15     21613 non-null  int64  \n",
      " 18  price_gt_1M    21613 non-null  int64  \n",
      "dtypes: float64(4), int64(15)\n",
      "memory usage: 3.1 MB\n"
     ]
    }
   ],
   "source": [
    "housing_df.info()"
   ]
  },
  {
   "cell_type": "markdown",
   "metadata": {},
   "source": [
    "### Automated EDA"
   ]
  },
  {
   "cell_type": "markdown",
   "metadata": {},
   "source": [
    "<span style=\"color: red;\">**Warning**</span>\n",
    "\n",
    "**Running this section can slow your PC**"
   ]
  },
  {
   "cell_type": "markdown",
   "metadata": {},
   "source": [
    "Open source python libraries, **Pandas Profiling** and **Sweetviz**, are used to generate reports on exploratory data analysis of the dataset"
   ]
  },
  {
   "cell_type": "code",
   "execution_count": null,
   "metadata": {
    "tags": []
   },
   "outputs": [],
   "source": [
    "# Run cell to install latest version of pandas profiling\n",
    "# pip install https://github.com/ydataai/pandas-profiling/archive/master.zip"
   ]
  },
  {
   "cell_type": "code",
   "execution_count": null,
   "metadata": {},
   "outputs": [],
   "source": [
    "from pandas_profiling import ProfileReport"
   ]
  },
  {
   "cell_type": "code",
   "execution_count": null,
   "metadata": {
    "tags": []
   },
   "outputs": [],
   "source": [
    "# Create Pandas Profiling report to the 'profile' object given the housing_df dataframe and title\n",
    "profile = ProfileReport(housing_df, title=\"Pandas Profiling Report\")"
   ]
  },
  {
   "cell_type": "code",
   "execution_count": null,
   "metadata": {},
   "outputs": [],
   "source": [
    "# Save profile report to output folder\n",
    "profile.to_file(\"output/pandas_profiling_report.html\")"
   ]
  },
  {
   "cell_type": "markdown",
   "metadata": {},
   "source": [
    "The EDA report from Pandas Profiling has been stored in the output folder, `output/pandas_profiling_report.html`. A similar process is used to generate a Sweetviz report"
   ]
  },
  {
   "cell_type": "code",
   "execution_count": null,
   "metadata": {},
   "outputs": [],
   "source": [
    "# Run cell to install Sweetviz\n",
    "# pip install sweetviz"
   ]
  },
  {
   "cell_type": "code",
   "execution_count": null,
   "metadata": {},
   "outputs": [],
   "source": [
    "import sweetviz"
   ]
  },
  {
   "cell_type": "code",
   "execution_count": null,
   "metadata": {},
   "outputs": [],
   "source": [
    "report = sweetviz.analyze(housing_df)"
   ]
  },
  {
   "cell_type": "code",
   "execution_count": null,
   "metadata": {},
   "outputs": [],
   "source": [
    "report.show_html(\"output/sweetviz_report.html\")"
   ]
  },
  {
   "cell_type": "markdown",
   "metadata": {},
   "source": [
    "Like the pandas_profiling_report, the sweetviz_report report has been saved to the output folder. However, to view both HTML files in this notebook, run the next 2 code cells."
   ]
  },
  {
   "cell_type": "code",
   "execution_count": null,
   "metadata": {},
   "outputs": [],
   "source": [
    "# Display pandas_profiling_report.html in this jupyter notebook\n",
    "from IPython.display import IFrame\n",
    "IFrame(src=\"output/pandas_profiling_report.html\", width=900, height=600)"
   ]
  },
  {
   "cell_type": "code",
   "execution_count": null,
   "metadata": {},
   "outputs": [],
   "source": [
    "#Display sweetviz_report.html in this jupyter notebook \n",
    "IFrame(src=\"output/sweetviz_report.html\", width=900, height=600)"
   ]
  },
  {
   "cell_type": "markdown",
   "metadata": {},
   "source": [
    "### Exploring the target variable"
   ]
  },
  {
   "cell_type": "code",
   "execution_count": 9,
   "metadata": {},
   "outputs": [
    {
     "data": {
      "text/plain": [
       "price_gt_1M\n",
       "0    20121\n",
       "1     1492\n",
       "dtype: int64"
      ]
     },
     "execution_count": 9,
     "metadata": {},
     "output_type": "execute_result"
    }
   ],
   "source": [
    "# To get the size of each group in the target variable\n",
    "housing_df.groupby(['price_gt_1M']).size()"
   ]
  },
  {
   "cell_type": "code",
   "execution_count": 10,
   "metadata": {},
   "outputs": [
    {
     "data": {
      "text/plain": [
       "0    0.930967\n",
       "1    0.069033\n",
       "Name: price_gt_1M, dtype: float64"
      ]
     },
     "execution_count": 10,
     "metadata": {},
     "output_type": "execute_result"
    }
   ],
   "source": [
    "# To get the ratio of each group in the target variable\n",
    "housing_df['price_gt_1M'].value_counts(normalize=True)"
   ]
  },
  {
   "cell_type": "markdown",
   "metadata": {},
   "source": [
    "### Exploring categorical & numerical variables"
   ]
  },
  {
   "cell_type": "markdown",
   "metadata": {},
   "source": [
    "A list of categorical and numeric variables is required to apply the appropriate pre-processing steps in the sklearn pipelines."
   ]
  },
  {
   "cell_type": "code",
   "execution_count": 11,
   "metadata": {},
   "outputs": [
    {
     "name": "stdout",
     "output_type": "stream",
     "text": [
      "<class 'pandas.core.frame.DataFrame'>\n",
      "RangeIndex: 21613 entries, 0 to 21612\n",
      "Data columns (total 19 columns):\n",
      " #   Column         Non-Null Count  Dtype  \n",
      "---  ------         --------------  -----  \n",
      " 0   bedrooms       21613 non-null  int64  \n",
      " 1   bathrooms      21613 non-null  float64\n",
      " 2   sqft_living    21613 non-null  int64  \n",
      " 3   sqft_lot       21613 non-null  int64  \n",
      " 4   floors         21613 non-null  float64\n",
      " 5   waterfront     21613 non-null  int64  \n",
      " 6   view           21613 non-null  int64  \n",
      " 7   condition      21613 non-null  int64  \n",
      " 8   grade          21613 non-null  int64  \n",
      " 9   sqft_above     21613 non-null  int64  \n",
      " 10  sqft_basement  21613 non-null  int64  \n",
      " 11  yr_built       21613 non-null  int64  \n",
      " 12  yr_renovated   21613 non-null  int64  \n",
      " 13  zipcode        21613 non-null  int64  \n",
      " 14  lat            21613 non-null  float64\n",
      " 15  long           21613 non-null  float64\n",
      " 16  sqft_living15  21613 non-null  int64  \n",
      " 17  sqft_lot15     21613 non-null  int64  \n",
      " 18  price_gt_1M    21613 non-null  int64  \n",
      "dtypes: float64(4), int64(15)\n",
      "memory usage: 3.1 MB\n"
     ]
    }
   ],
   "source": [
    "# info on dataframe\n",
    "housing_df.info()"
   ]
  },
  {
   "cell_type": "code",
   "execution_count": 12,
   "metadata": {},
   "outputs": [
    {
     "data": {
      "text/html": [
       "<div>\n",
       "<style scoped>\n",
       "    .dataframe tbody tr th:only-of-type {\n",
       "        vertical-align: middle;\n",
       "    }\n",
       "\n",
       "    .dataframe tbody tr th {\n",
       "        vertical-align: top;\n",
       "    }\n",
       "\n",
       "    .dataframe thead th {\n",
       "        text-align: right;\n",
       "    }\n",
       "</style>\n",
       "<table border=\"1\" class=\"dataframe\">\n",
       "  <thead>\n",
       "    <tr style=\"text-align: right;\">\n",
       "      <th></th>\n",
       "      <th>bedrooms</th>\n",
       "      <th>bathrooms</th>\n",
       "      <th>sqft_living</th>\n",
       "      <th>sqft_lot</th>\n",
       "      <th>floors</th>\n",
       "      <th>waterfront</th>\n",
       "      <th>view</th>\n",
       "      <th>condition</th>\n",
       "      <th>grade</th>\n",
       "      <th>sqft_above</th>\n",
       "      <th>sqft_basement</th>\n",
       "      <th>yr_built</th>\n",
       "      <th>yr_renovated</th>\n",
       "      <th>zipcode</th>\n",
       "      <th>lat</th>\n",
       "      <th>long</th>\n",
       "      <th>sqft_living15</th>\n",
       "      <th>sqft_lot15</th>\n",
       "      <th>price_gt_1M</th>\n",
       "    </tr>\n",
       "  </thead>\n",
       "  <tbody>\n",
       "    <tr>\n",
       "      <th>0</th>\n",
       "      <td>3</td>\n",
       "      <td>1.00</td>\n",
       "      <td>1180</td>\n",
       "      <td>5650</td>\n",
       "      <td>1.0</td>\n",
       "      <td>0</td>\n",
       "      <td>0</td>\n",
       "      <td>3</td>\n",
       "      <td>7</td>\n",
       "      <td>1180</td>\n",
       "      <td>0</td>\n",
       "      <td>1955</td>\n",
       "      <td>0</td>\n",
       "      <td>98178</td>\n",
       "      <td>47.5112</td>\n",
       "      <td>-122.257</td>\n",
       "      <td>1340</td>\n",
       "      <td>5650</td>\n",
       "      <td>0</td>\n",
       "    </tr>\n",
       "    <tr>\n",
       "      <th>1</th>\n",
       "      <td>3</td>\n",
       "      <td>2.25</td>\n",
       "      <td>2570</td>\n",
       "      <td>7242</td>\n",
       "      <td>2.0</td>\n",
       "      <td>0</td>\n",
       "      <td>0</td>\n",
       "      <td>3</td>\n",
       "      <td>7</td>\n",
       "      <td>2170</td>\n",
       "      <td>400</td>\n",
       "      <td>1951</td>\n",
       "      <td>1991</td>\n",
       "      <td>98125</td>\n",
       "      <td>47.7210</td>\n",
       "      <td>-122.319</td>\n",
       "      <td>1690</td>\n",
       "      <td>7639</td>\n",
       "      <td>0</td>\n",
       "    </tr>\n",
       "    <tr>\n",
       "      <th>2</th>\n",
       "      <td>2</td>\n",
       "      <td>1.00</td>\n",
       "      <td>770</td>\n",
       "      <td>10000</td>\n",
       "      <td>1.0</td>\n",
       "      <td>0</td>\n",
       "      <td>0</td>\n",
       "      <td>3</td>\n",
       "      <td>6</td>\n",
       "      <td>770</td>\n",
       "      <td>0</td>\n",
       "      <td>1933</td>\n",
       "      <td>0</td>\n",
       "      <td>98028</td>\n",
       "      <td>47.7379</td>\n",
       "      <td>-122.233</td>\n",
       "      <td>2720</td>\n",
       "      <td>8062</td>\n",
       "      <td>0</td>\n",
       "    </tr>\n",
       "    <tr>\n",
       "      <th>3</th>\n",
       "      <td>4</td>\n",
       "      <td>3.00</td>\n",
       "      <td>1960</td>\n",
       "      <td>5000</td>\n",
       "      <td>1.0</td>\n",
       "      <td>0</td>\n",
       "      <td>0</td>\n",
       "      <td>5</td>\n",
       "      <td>7</td>\n",
       "      <td>1050</td>\n",
       "      <td>910</td>\n",
       "      <td>1965</td>\n",
       "      <td>0</td>\n",
       "      <td>98136</td>\n",
       "      <td>47.5208</td>\n",
       "      <td>-122.393</td>\n",
       "      <td>1360</td>\n",
       "      <td>5000</td>\n",
       "      <td>0</td>\n",
       "    </tr>\n",
       "    <tr>\n",
       "      <th>4</th>\n",
       "      <td>3</td>\n",
       "      <td>2.00</td>\n",
       "      <td>1680</td>\n",
       "      <td>8080</td>\n",
       "      <td>1.0</td>\n",
       "      <td>0</td>\n",
       "      <td>0</td>\n",
       "      <td>3</td>\n",
       "      <td>8</td>\n",
       "      <td>1680</td>\n",
       "      <td>0</td>\n",
       "      <td>1987</td>\n",
       "      <td>0</td>\n",
       "      <td>98074</td>\n",
       "      <td>47.6168</td>\n",
       "      <td>-122.045</td>\n",
       "      <td>1800</td>\n",
       "      <td>7503</td>\n",
       "      <td>0</td>\n",
       "    </tr>\n",
       "  </tbody>\n",
       "</table>\n",
       "</div>"
      ],
      "text/plain": [
       "   bedrooms  bathrooms  sqft_living  sqft_lot  floors  waterfront  view  \\\n",
       "0         3       1.00         1180      5650     1.0           0     0   \n",
       "1         3       2.25         2570      7242     2.0           0     0   \n",
       "2         2       1.00          770     10000     1.0           0     0   \n",
       "3         4       3.00         1960      5000     1.0           0     0   \n",
       "4         3       2.00         1680      8080     1.0           0     0   \n",
       "\n",
       "   condition  grade  sqft_above  sqft_basement  yr_built  yr_renovated  \\\n",
       "0          3      7        1180              0      1955             0   \n",
       "1          3      7        2170            400      1951          1991   \n",
       "2          3      6         770              0      1933             0   \n",
       "3          5      7        1050            910      1965             0   \n",
       "4          3      8        1680              0      1987             0   \n",
       "\n",
       "   zipcode      lat     long  sqft_living15  sqft_lot15  price_gt_1M  \n",
       "0    98178  47.5112 -122.257           1340        5650            0  \n",
       "1    98125  47.7210 -122.319           1690        7639            0  \n",
       "2    98028  47.7379 -122.233           2720        8062            0  \n",
       "3    98136  47.5208 -122.393           1360        5000            0  \n",
       "4    98074  47.6168 -122.045           1800        7503            0  "
      ]
     },
     "execution_count": 12,
     "metadata": {},
     "output_type": "execute_result"
    }
   ],
   "source": [
    "# view top 5 rows in dataframe\n",
    "housing_df.head()"
   ]
  },
  {
   "cell_type": "code",
   "execution_count": 13,
   "metadata": {},
   "outputs": [
    {
     "data": {
      "text/html": [
       "<div>\n",
       "<style scoped>\n",
       "    .dataframe tbody tr th:only-of-type {\n",
       "        vertical-align: middle;\n",
       "    }\n",
       "\n",
       "    .dataframe tbody tr th {\n",
       "        vertical-align: top;\n",
       "    }\n",
       "\n",
       "    .dataframe thead th {\n",
       "        text-align: right;\n",
       "    }\n",
       "</style>\n",
       "<table border=\"1\" class=\"dataframe\">\n",
       "  <thead>\n",
       "    <tr style=\"text-align: right;\">\n",
       "      <th></th>\n",
       "      <th>bedrooms</th>\n",
       "      <th>bathrooms</th>\n",
       "      <th>sqft_living</th>\n",
       "      <th>sqft_lot</th>\n",
       "      <th>floors</th>\n",
       "      <th>waterfront</th>\n",
       "      <th>view</th>\n",
       "      <th>condition</th>\n",
       "      <th>grade</th>\n",
       "      <th>sqft_above</th>\n",
       "      <th>sqft_basement</th>\n",
       "      <th>yr_built</th>\n",
       "      <th>yr_renovated</th>\n",
       "      <th>zipcode</th>\n",
       "      <th>lat</th>\n",
       "      <th>long</th>\n",
       "      <th>sqft_living15</th>\n",
       "      <th>sqft_lot15</th>\n",
       "      <th>price_gt_1M</th>\n",
       "    </tr>\n",
       "  </thead>\n",
       "  <tbody>\n",
       "    <tr>\n",
       "      <th>21608</th>\n",
       "      <td>3</td>\n",
       "      <td>2.50</td>\n",
       "      <td>1530</td>\n",
       "      <td>1131</td>\n",
       "      <td>3.0</td>\n",
       "      <td>0</td>\n",
       "      <td>0</td>\n",
       "      <td>3</td>\n",
       "      <td>8</td>\n",
       "      <td>1530</td>\n",
       "      <td>0</td>\n",
       "      <td>2009</td>\n",
       "      <td>0</td>\n",
       "      <td>98103</td>\n",
       "      <td>47.6993</td>\n",
       "      <td>-122.346</td>\n",
       "      <td>1530</td>\n",
       "      <td>1509</td>\n",
       "      <td>0</td>\n",
       "    </tr>\n",
       "    <tr>\n",
       "      <th>21609</th>\n",
       "      <td>4</td>\n",
       "      <td>2.50</td>\n",
       "      <td>2310</td>\n",
       "      <td>5813</td>\n",
       "      <td>2.0</td>\n",
       "      <td>0</td>\n",
       "      <td>0</td>\n",
       "      <td>3</td>\n",
       "      <td>8</td>\n",
       "      <td>2310</td>\n",
       "      <td>0</td>\n",
       "      <td>2014</td>\n",
       "      <td>0</td>\n",
       "      <td>98146</td>\n",
       "      <td>47.5107</td>\n",
       "      <td>-122.362</td>\n",
       "      <td>1830</td>\n",
       "      <td>7200</td>\n",
       "      <td>0</td>\n",
       "    </tr>\n",
       "    <tr>\n",
       "      <th>21610</th>\n",
       "      <td>2</td>\n",
       "      <td>0.75</td>\n",
       "      <td>1020</td>\n",
       "      <td>1350</td>\n",
       "      <td>2.0</td>\n",
       "      <td>0</td>\n",
       "      <td>0</td>\n",
       "      <td>3</td>\n",
       "      <td>7</td>\n",
       "      <td>1020</td>\n",
       "      <td>0</td>\n",
       "      <td>2009</td>\n",
       "      <td>0</td>\n",
       "      <td>98144</td>\n",
       "      <td>47.5944</td>\n",
       "      <td>-122.299</td>\n",
       "      <td>1020</td>\n",
       "      <td>2007</td>\n",
       "      <td>0</td>\n",
       "    </tr>\n",
       "    <tr>\n",
       "      <th>21611</th>\n",
       "      <td>3</td>\n",
       "      <td>2.50</td>\n",
       "      <td>1600</td>\n",
       "      <td>2388</td>\n",
       "      <td>2.0</td>\n",
       "      <td>0</td>\n",
       "      <td>0</td>\n",
       "      <td>3</td>\n",
       "      <td>8</td>\n",
       "      <td>1600</td>\n",
       "      <td>0</td>\n",
       "      <td>2004</td>\n",
       "      <td>0</td>\n",
       "      <td>98027</td>\n",
       "      <td>47.5345</td>\n",
       "      <td>-122.069</td>\n",
       "      <td>1410</td>\n",
       "      <td>1287</td>\n",
       "      <td>0</td>\n",
       "    </tr>\n",
       "    <tr>\n",
       "      <th>21612</th>\n",
       "      <td>2</td>\n",
       "      <td>0.75</td>\n",
       "      <td>1020</td>\n",
       "      <td>1076</td>\n",
       "      <td>2.0</td>\n",
       "      <td>0</td>\n",
       "      <td>0</td>\n",
       "      <td>3</td>\n",
       "      <td>7</td>\n",
       "      <td>1020</td>\n",
       "      <td>0</td>\n",
       "      <td>2008</td>\n",
       "      <td>0</td>\n",
       "      <td>98144</td>\n",
       "      <td>47.5941</td>\n",
       "      <td>-122.299</td>\n",
       "      <td>1020</td>\n",
       "      <td>1357</td>\n",
       "      <td>0</td>\n",
       "    </tr>\n",
       "  </tbody>\n",
       "</table>\n",
       "</div>"
      ],
      "text/plain": [
       "       bedrooms  bathrooms  sqft_living  sqft_lot  floors  waterfront  view  \\\n",
       "21608         3       2.50         1530      1131     3.0           0     0   \n",
       "21609         4       2.50         2310      5813     2.0           0     0   \n",
       "21610         2       0.75         1020      1350     2.0           0     0   \n",
       "21611         3       2.50         1600      2388     2.0           0     0   \n",
       "21612         2       0.75         1020      1076     2.0           0     0   \n",
       "\n",
       "       condition  grade  sqft_above  sqft_basement  yr_built  yr_renovated  \\\n",
       "21608          3      8        1530              0      2009             0   \n",
       "21609          3      8        2310              0      2014             0   \n",
       "21610          3      7        1020              0      2009             0   \n",
       "21611          3      8        1600              0      2004             0   \n",
       "21612          3      7        1020              0      2008             0   \n",
       "\n",
       "       zipcode      lat     long  sqft_living15  sqft_lot15  price_gt_1M  \n",
       "21608    98103  47.6993 -122.346           1530        1509            0  \n",
       "21609    98146  47.5107 -122.362           1830        7200            0  \n",
       "21610    98144  47.5944 -122.299           1020        2007            0  \n",
       "21611    98027  47.5345 -122.069           1410        1287            0  \n",
       "21612    98144  47.5941 -122.299           1020        1357            0  "
      ]
     },
     "execution_count": 13,
     "metadata": {},
     "output_type": "execute_result"
    }
   ],
   "source": [
    "# view last 5 rows in dataframe\n",
    "housing_df.tail()"
   ]
  },
  {
   "cell_type": "markdown",
   "metadata": {},
   "source": [
    "All the variables are of numeric data type. However, some variables such as *bedrooms, bathrooms, floors, waterfront, view, condition, grade & zipcode* are categorical."
   ]
  },
  {
   "cell_type": "code",
   "execution_count": 14,
   "metadata": {
    "tags": []
   },
   "outputs": [
    {
     "name": "stdout",
     "output_type": "stream",
     "text": [
      "bedrooms\n",
      "0       13\n",
      "1      199\n",
      "2     2760\n",
      "3     9824\n",
      "4     6882\n",
      "5     1601\n",
      "6      272\n",
      "7       38\n",
      "8       13\n",
      "9        6\n",
      "10       3\n",
      "11       1\n",
      "33       1\n",
      "dtype: int64\n",
      "bathrooms\n",
      "0.00      10\n",
      "0.50       4\n",
      "0.75      72\n",
      "1.00    3852\n",
      "1.25       9\n",
      "1.50    1446\n",
      "1.75    3048\n",
      "2.00    1930\n",
      "2.25    2047\n",
      "2.50    5380\n",
      "2.75    1185\n",
      "3.00     753\n",
      "3.25     589\n",
      "3.50     731\n",
      "3.75     155\n",
      "4.00     136\n",
      "4.25      79\n",
      "4.50     100\n",
      "4.75      23\n",
      "5.00      21\n",
      "5.25      13\n",
      "5.50      10\n",
      "5.75       4\n",
      "6.00       6\n",
      "6.25       2\n",
      "6.50       2\n",
      "6.75       2\n",
      "7.50       1\n",
      "7.75       1\n",
      "8.00       2\n",
      "dtype: int64\n",
      "floors\n",
      "1.0    10680\n",
      "1.5     1910\n",
      "2.0     8241\n",
      "2.5      161\n",
      "3.0      613\n",
      "3.5        8\n",
      "dtype: int64\n",
      "waterfront\n",
      "0    21450\n",
      "1      163\n",
      "dtype: int64\n",
      "view\n",
      "0    19489\n",
      "1      332\n",
      "2      963\n",
      "3      510\n",
      "4      319\n",
      "dtype: int64\n",
      "condition\n",
      "1       30\n",
      "2      172\n",
      "3    14031\n",
      "4     5679\n",
      "5     1701\n",
      "dtype: int64\n",
      "grade\n",
      "1        1\n",
      "3        3\n",
      "4       29\n",
      "5      242\n",
      "6     2038\n",
      "7     8981\n",
      "8     6068\n",
      "9     2615\n",
      "10    1134\n",
      "11     399\n",
      "12      90\n",
      "13      13\n",
      "dtype: int64\n",
      "zipcode\n",
      "98001    362\n",
      "98002    199\n",
      "98003    280\n",
      "98004    317\n",
      "98005    168\n",
      "        ... \n",
      "98177    255\n",
      "98178    262\n",
      "98188    136\n",
      "98198    280\n",
      "98199    317\n",
      "Length: 70, dtype: int64\n"
     ]
    }
   ],
   "source": [
    "# Display the size of each group present in the categorical variables\n",
    "print(housing_df.groupby(['bedrooms']).size())\n",
    "print(housing_df.groupby(['bathrooms']).size())\n",
    "print(housing_df.groupby(['floors']).size())\n",
    "print(housing_df.groupby(['waterfront']).size())\n",
    "print(housing_df.groupby(['view']).size())\n",
    "print(housing_df.groupby(['condition']).size())\n",
    "print(housing_df.groupby(['grade']).size())\n",
    "print(housing_df.groupby(['zipcode']).size())\n"
   ]
  },
  {
   "cell_type": "code",
   "execution_count": 15,
   "metadata": {},
   "outputs": [
    {
     "name": "stdout",
     "output_type": "stream",
     "text": [
      "bedrooms  price_gt_1M\n",
      "0         0              0.846154\n",
      "          1              0.153846\n",
      "1         0              0.994975\n",
      "          1              0.005025\n",
      "2         0              0.987681\n",
      "          1              0.012319\n",
      "3         0              0.967834\n",
      "          1              0.032166\n",
      "4         0              0.891456\n",
      "          1              0.108544\n",
      "5         0              0.798876\n",
      "          1              0.201124\n",
      "6         0              0.797794\n",
      "          1              0.202206\n",
      "7         0              0.789474\n",
      "          1              0.210526\n",
      "8         0              0.692308\n",
      "          1              0.307692\n",
      "9         0              0.666667\n",
      "          1              0.333333\n",
      "10        0              0.666667\n",
      "          1              0.333333\n",
      "11        0              1.000000\n",
      "33        0              1.000000\n",
      "Name: price_gt_1M, dtype: float64\n",
      "bathrooms  price_gt_1M\n",
      "0.00       0              0.800000\n",
      "           1              0.200000\n",
      "0.50       0              1.000000\n",
      "0.75       0              1.000000\n",
      "1.00       0              0.997144\n",
      "           1              0.002856\n",
      "1.25       0              0.777778\n",
      "           1              0.222222\n",
      "1.50       0              0.987552\n",
      "           1              0.012448\n",
      "1.75       0              0.984908\n",
      "           1              0.015092\n",
      "2.00       0              0.983938\n",
      "           1              0.016062\n",
      "2.25       0              0.944797\n",
      "           1              0.055203\n",
      "2.50       0              0.951673\n",
      "           1              0.048327\n",
      "2.75       0              0.898734\n",
      "           1              0.101266\n",
      "3.00       0              0.848606\n",
      "           1              0.151394\n",
      "3.25       0              0.657046\n",
      "           1              0.342954\n",
      "3.50       0              0.682627\n",
      "           1              0.317373\n",
      "3.75       1              0.554839\n",
      "           0              0.445161\n",
      "4.00       1              0.558824\n",
      "           0              0.441176\n",
      "4.25       1              0.696203\n",
      "           0              0.303797\n",
      "4.50       1              0.550000\n",
      "           0              0.450000\n",
      "4.75       1              0.826087\n",
      "           0              0.173913\n",
      "5.00       1              0.666667\n",
      "           0              0.333333\n",
      "5.25       1              0.846154\n",
      "           0              0.153846\n",
      "5.50       1              0.900000\n",
      "           0              0.100000\n",
      "5.75       1              0.750000\n",
      "           0              0.250000\n",
      "6.00       1              0.833333\n",
      "           0              0.166667\n",
      "6.25       1              1.000000\n",
      "6.50       1              1.000000\n",
      "6.75       0              0.500000\n",
      "           1              0.500000\n",
      "7.50       0              1.000000\n",
      "7.75       1              1.000000\n",
      "8.00       1              1.000000\n",
      "Name: price_gt_1M, dtype: float64\n",
      "floors  price_gt_1M\n",
      "1.0     0              0.970880\n",
      "        1              0.029120\n",
      "1.5     0              0.940314\n",
      "        1              0.059686\n",
      "2.0     0              0.883873\n",
      "        1              0.116127\n",
      "2.5     0              0.652174\n",
      "        1              0.347826\n",
      "3.0     0              0.915171\n",
      "        1              0.084829\n",
      "3.5     0              0.750000\n",
      "        1              0.250000\n",
      "Name: price_gt_1M, dtype: float64\n",
      "waterfront  price_gt_1M\n",
      "0           0              0.935338\n",
      "            1              0.064662\n",
      "1           1              0.644172\n",
      "            0              0.355828\n",
      "Name: price_gt_1M, dtype: float64\n",
      "view  price_gt_1M\n",
      "0     0              0.957104\n",
      "      1              0.042896\n",
      "1     0              0.783133\n",
      "      1              0.216867\n",
      "2     0              0.792316\n",
      "      1              0.207684\n",
      "3     0              0.627451\n",
      "      1              0.372549\n",
      "4     1              0.608150\n",
      "      0              0.391850\n",
      "Name: price_gt_1M, dtype: float64\n",
      "condition  price_gt_1M\n",
      "1          0              0.966667\n",
      "           1              0.033333\n",
      "2          0              0.988372\n",
      "           1              0.011628\n",
      "3          0              0.931651\n",
      "           1              0.068349\n",
      "4          0              0.939954\n",
      "           1              0.060046\n",
      "5          0              0.888889\n",
      "           1              0.111111\n",
      "Name: price_gt_1M, dtype: float64\n",
      "grade  price_gt_1M\n",
      "1      0              1.000000\n",
      "3      0              1.000000\n",
      "4      0              1.000000\n",
      "5      0              1.000000\n",
      "6      0              0.997547\n",
      "       1              0.002453\n",
      "7      0              0.996882\n",
      "       1              0.003118\n",
      "8      0              0.966711\n",
      "       1              0.033289\n",
      "9      0              0.845889\n",
      "       1              0.154111\n",
      "10     0              0.609347\n",
      "       1              0.390653\n",
      "11     1              0.776942\n",
      "       0              0.223058\n",
      "12     1              0.977778\n",
      "       0              0.022222\n",
      "13     1              1.000000\n",
      "Name: price_gt_1M, dtype: float64\n",
      "zipcode  price_gt_1M\n",
      "98001    0              1.000000\n",
      "98002    0              1.000000\n",
      "98003    0              1.000000\n",
      "98004    1              0.580442\n",
      "         0              0.419558\n",
      "                          ...   \n",
      "98188    0              1.000000\n",
      "98198    0              0.992857\n",
      "         1              0.007143\n",
      "98199    0              0.794953\n",
      "         1              0.205047\n",
      "Name: price_gt_1M, Length: 123, dtype: float64\n"
     ]
    }
   ],
   "source": [
    "# Display the size of each group present in the categorical variables with reference to the binary values in the target variable\n",
    "print(housing_df.groupby('bedrooms')['price_gt_1M'].value_counts(normalize=True))\n",
    "print(housing_df.groupby('bathrooms')['price_gt_1M'].value_counts(normalize=True))\n",
    "print(housing_df.groupby('floors')['price_gt_1M'].value_counts(normalize=True))\n",
    "print(housing_df.groupby('waterfront')['price_gt_1M'].value_counts(normalize=True))\n",
    "print(housing_df.groupby('view')['price_gt_1M'].value_counts(normalize=True))\n",
    "print(housing_df.groupby('condition')['price_gt_1M'].value_counts(normalize=True))\n",
    "print(housing_df.groupby('grade')['price_gt_1M'].value_counts(normalize=True))\n",
    "print(housing_df.groupby('zipcode')['price_gt_1M'].value_counts(normalize=True))\n"
   ]
  },
  {
   "cell_type": "markdown",
   "metadata": {},
   "source": [
    "Further exploration shows the size/count of each group present in the categorical variables, and the ratio of the size of each group with reference to the target variable. A conversion of the data type of these variables is used to differentiate them from the numerical variables. "
   ]
  },
  {
   "cell_type": "code",
   "execution_count": 16,
   "metadata": {
    "tags": []
   },
   "outputs": [],
   "source": [
    "# conversion to categorical data type\n",
    "housing_df['bedrooms'] = housing_df['bedrooms'].astype('category')\n",
    "housing_df['bathrooms'] = housing_df['bathrooms'].astype('category')\n",
    "housing_df['floors'] = housing_df['floors'].astype('category')\n",
    "housing_df['waterfront'] = housing_df['waterfront'].astype('category')\n",
    "housing_df['view'] = housing_df['view'].astype('category')\n",
    "housing_df['condition'] = housing_df['condition'].astype('category')\n",
    "housing_df['grade'] = housing_df['grade'].astype('category')\n",
    "housing_df['zipcode'] = housing_df['zipcode'].astype('category')"
   ]
  },
  {
   "cell_type": "code",
   "execution_count": 17,
   "metadata": {},
   "outputs": [
    {
     "name": "stdout",
     "output_type": "stream",
     "text": [
      "<class 'pandas.core.frame.DataFrame'>\n",
      "RangeIndex: 21613 entries, 0 to 21612\n",
      "Data columns (total 19 columns):\n",
      " #   Column         Non-Null Count  Dtype   \n",
      "---  ------         --------------  -----   \n",
      " 0   bedrooms       21613 non-null  category\n",
      " 1   bathrooms      21613 non-null  category\n",
      " 2   sqft_living    21613 non-null  int64   \n",
      " 3   sqft_lot       21613 non-null  int64   \n",
      " 4   floors         21613 non-null  category\n",
      " 5   waterfront     21613 non-null  category\n",
      " 6   view           21613 non-null  category\n",
      " 7   condition      21613 non-null  category\n",
      " 8   grade          21613 non-null  category\n",
      " 9   sqft_above     21613 non-null  int64   \n",
      " 10  sqft_basement  21613 non-null  int64   \n",
      " 11  yr_built       21613 non-null  int64   \n",
      " 12  yr_renovated   21613 non-null  int64   \n",
      " 13  zipcode        21613 non-null  category\n",
      " 14  lat            21613 non-null  float64 \n",
      " 15  long           21613 non-null  float64 \n",
      " 16  sqft_living15  21613 non-null  int64   \n",
      " 17  sqft_lot15     21613 non-null  int64   \n",
      " 18  price_gt_1M    21613 non-null  int64   \n",
      "dtypes: category(8), float64(2), int64(9)\n",
      "memory usage: 2.0 MB\n"
     ]
    }
   ],
   "source": [
    "housing_df.info()"
   ]
  },
  {
   "cell_type": "markdown",
   "metadata": {},
   "source": [
    "With the conversion of all categorical variables, an extraction of all categorical variables from a list of all the columns can provide the numeric variables.  "
   ]
  },
  {
   "cell_type": "code",
   "execution_count": 18,
   "metadata": {},
   "outputs": [
    {
     "data": {
      "text/plain": [
       "['bedrooms',\n",
       " 'bathrooms',\n",
       " 'sqft_living',\n",
       " 'sqft_lot',\n",
       " 'floors',\n",
       " 'waterfront',\n",
       " 'view',\n",
       " 'condition',\n",
       " 'grade',\n",
       " 'sqft_above',\n",
       " 'sqft_basement',\n",
       " 'yr_built',\n",
       " 'yr_renovated',\n",
       " 'zipcode',\n",
       " 'lat',\n",
       " 'long',\n",
       " 'sqft_living15',\n",
       " 'sqft_lot15',\n",
       " 'price_gt_1M']"
      ]
     },
     "execution_count": 18,
     "metadata": {},
     "output_type": "execute_result"
    }
   ],
   "source": [
    "# Assign a list of all column names to the cols object\n",
    "all_cols=housing_df.columns.tolist()\n",
    "all_cols"
   ]
  },
  {
   "cell_type": "code",
   "execution_count": 19,
   "metadata": {},
   "outputs": [
    {
     "data": {
      "text/plain": [
       "['bedrooms',\n",
       " 'bathrooms',\n",
       " 'floors',\n",
       " 'waterfront',\n",
       " 'view',\n",
       " 'condition',\n",
       " 'grade',\n",
       " 'zipcode']"
      ]
     },
     "execution_count": 19,
     "metadata": {},
     "output_type": "execute_result"
    }
   ],
   "source": [
    "# Assign a list of all categorical column names to the categorical_cols\n",
    "categorical_cols = housing_df.select_dtypes(include=['category']).columns.tolist()\n",
    "categorical_cols"
   ]
  },
  {
   "cell_type": "code",
   "execution_count": 20,
   "metadata": {},
   "outputs": [
    {
     "data": {
      "text/plain": [
       "['sqft_living',\n",
       " 'sqft_lot',\n",
       " 'sqft_above',\n",
       " 'sqft_basement',\n",
       " 'yr_built',\n",
       " 'yr_renovated',\n",
       " 'lat',\n",
       " 'long',\n",
       " 'sqft_living15',\n",
       " 'sqft_lot15']"
      ]
     },
     "execution_count": 20,
     "metadata": {},
     "output_type": "execute_result"
    }
   ],
   "source": [
    "# To assign the numerical columns, extract all column in cols that are not in categorical_cols\n",
    "numerical_cols = [c for c in all_cols if c not in categorical_cols]\n",
    "\n",
    "# Remove target variable from numerical_col\n",
    "numerical_cols.remove('price_gt_1M')\n",
    "numerical_cols"
   ]
  },
  {
   "cell_type": "markdown",
   "metadata": {},
   "source": [
    "For data partitioning, the housing_df dataframe is divided into the target variable, y and features variables, X."
   ]
  },
  {
   "cell_type": "code",
   "execution_count": 21,
   "metadata": {},
   "outputs": [
    {
     "name": "stdout",
     "output_type": "stream",
     "text": [
      "<class 'pandas.core.frame.DataFrame'>\n",
      "RangeIndex: 21613 entries, 0 to 21612\n",
      "Data columns (total 18 columns):\n",
      " #   Column         Non-Null Count  Dtype   \n",
      "---  ------         --------------  -----   \n",
      " 0   bedrooms       21613 non-null  category\n",
      " 1   bathrooms      21613 non-null  category\n",
      " 2   sqft_living    21613 non-null  int64   \n",
      " 3   sqft_lot       21613 non-null  int64   \n",
      " 4   floors         21613 non-null  category\n",
      " 5   waterfront     21613 non-null  category\n",
      " 6   view           21613 non-null  category\n",
      " 7   condition      21613 non-null  category\n",
      " 8   grade          21613 non-null  category\n",
      " 9   sqft_above     21613 non-null  int64   \n",
      " 10  sqft_basement  21613 non-null  int64   \n",
      " 11  yr_built       21613 non-null  int64   \n",
      " 12  yr_renovated   21613 non-null  int64   \n",
      " 13  zipcode        21613 non-null  category\n",
      " 14  lat            21613 non-null  float64 \n",
      " 15  long           21613 non-null  float64 \n",
      " 16  sqft_living15  21613 non-null  int64   \n",
      " 17  sqft_lot15     21613 non-null  int64   \n",
      "dtypes: category(8), float64(2), int64(8)\n",
      "memory usage: 1.8 MB\n",
      "None\n",
      "0        0\n",
      "1        0\n",
      "2        0\n",
      "3        0\n",
      "4        0\n",
      "        ..\n",
      "21608    0\n",
      "21609    0\n",
      "21610    0\n",
      "21611    0\n",
      "21612    0\n",
      "Name: price_gt_1M, Length: 21613, dtype: int64\n"
     ]
    }
   ],
   "source": [
    "X = housing_df.iloc[:, 0:18]\n",
    "y = housing_df.iloc[:, 18]\n",
    "print(X.info())\n",
    "print(y)"
   ]
  },
  {
   "cell_type": "markdown",
   "metadata": {},
   "source": [
    "**The use of assertion to ensure that no columns are missed**"
   ]
  },
  {
   "cell_type": "code",
   "execution_count": 22,
   "metadata": {},
   "outputs": [],
   "source": [
    "cols = X.columns.tolist()"
   ]
  },
  {
   "cell_type": "code",
   "execution_count": 23,
   "metadata": {},
   "outputs": [],
   "source": [
    "#Using assertion to check\n",
    "assert len(cols) == len(categorical_cols) + len(numerical_cols), 'each col should either be in categorical or numeric lists'"
   ]
  },
  {
   "cell_type": "code",
   "execution_count": 24,
   "metadata": {},
   "outputs": [],
   "source": [
    "from sklearn.model_selection import train_test_split"
   ]
  },
  {
   "cell_type": "code",
   "execution_count": 25,
   "metadata": {},
   "outputs": [],
   "source": [
    "# partition our training data into train and test sets to use for model fitting and testing\n",
    "X_train, X_test, y_train, y_test = train_test_split(X, y, test_size=0.2, random_state=73)"
   ]
  },
  {
   "cell_type": "markdown",
   "metadata": {
    "tags": []
   },
   "source": [
    "## Logistic Regression Models"
   ]
  },
  {
   "cell_type": "code",
   "execution_count": 26,
   "metadata": {},
   "outputs": [],
   "source": [
    "from sklearn.compose import ColumnTransformer\n",
    "from sklearn.pipeline import Pipeline, make_pipeline\n",
    "from sklearn.preprocessing import StandardScaler, OneHotEncoder\n",
    "from sklearn.linear_model import LogisticRegression, LogisticRegressionCV\n",
    "from sklearn.metrics import confusion_matrix, ConfusionMatrixDisplay"
   ]
  },
  {
   "cell_type": "markdown",
   "metadata": {},
   "source": [
    "**Pipeline**"
   ]
  },
  {
   "cell_type": "code",
   "execution_count": 27,
   "metadata": {},
   "outputs": [],
   "source": [
    "# Create transformer objects\n",
    "numeric_transformer = StandardScaler()\n",
    "categorical_transformer = OneHotEncoder(handle_unknown='ignore')\n",
    "\n",
    "# Combine transformers into a preprocessor step\n",
    "preprocessor = ColumnTransformer(\n",
    "    transformers=[\n",
    "        ('num', numeric_transformer, numerical_cols),\n",
    "        ('cat', categorical_transformer, categorical_cols)])\n"
   ]
  },
  {
   "cell_type": "markdown",
   "metadata": {},
   "source": [
    "### Model 0: The null model"
   ]
  },
  {
   "cell_type": "code",
   "execution_count": 29,
   "metadata": {},
   "outputs": [
    {
     "name": "stdout",
     "output_type": "stream",
     "text": [
      "Training score for the null model is: 0.933\n",
      "Test score for the null model is: 0.924\n"
     ]
    }
   ],
   "source": [
    "print(f\"Training score for the null model is: {y_train.value_counts()[0]/len(y_train):.3f}\")\n",
    "print(f\"Test score for the null model is: {y_test.value_counts()[0]/len(y_test):.3f}\")\n"
   ]
  },
  {
   "cell_type": "markdown",
   "metadata": {},
   "source": [
    "The null model shows the accuracy of predicting 0 for all observations in both the train and test data sets."
   ]
  },
  {
   "cell_type": "markdown",
   "metadata": {},
   "source": [
    "### Model 1: Ridge regression with C=1.0"
   ]
  },
  {
   "cell_type": "markdown",
   "metadata": {},
   "source": [
    "For ridge regression, the penalty in our classifier model is set to *L2*."
   ]
  },
  {
   "cell_type": "code",
   "execution_count": 30,
   "metadata": {},
   "outputs": [
    {
     "name": "stdout",
     "output_type": "stream",
     "text": [
      "Training score: 0.974\n",
      "Test score: 0.972\n"
     ]
    }
   ],
   "source": [
    "# Classifier for model 1\n",
    "clf_model = LogisticRegression(penalty='l2', C=1, solver='saga', max_iter=2000)\n",
    "\n",
    "# Append classifier to preprocessing pipeline.\n",
    "\n",
    "clf = Pipeline(steps=[('preprocessor', preprocessor),\n",
    "                      ('classifier', clf_model)])\n",
    "\n",
    "# Fit model on new training data\n",
    "clf.fit(X_train, y_train)\n",
    "\n",
    "print(f\"Training score: {clf.score(X_train, y_train):.3f}\")\n",
    "print(f\"Test score: {clf.score(X_test, y_test):.3f}\")"
   ]
  },
  {
   "cell_type": "markdown",
   "metadata": {},
   "source": [
    "With a score of 97%, the accuracy of model 1 is similar for both the train and test data sets.\n",
    "\n",
    "To create the confusion matrices for the training and test sets, the model will be used to predict both sets, and the matrices will be created from the outcomes of the predictions and the actual y values"
   ]
  },
  {
   "cell_type": "code",
   "execution_count": 31,
   "metadata": {
    "tags": []
   },
   "outputs": [
    {
     "data": {
      "image/png": "[encoded data removed]",
      "text/plain": [
       "<Figure size 432x288 with 2 Axes>"
      ]
     },
     "metadata": {
      "needs_background": "light"
     },
     "output_type": "display_data"
    }
   ],
   "source": [
    "pred_train = clf.predict(X_train)\n",
    "cm_train = confusion_matrix(y_train, pred_train, labels=clf.classes_)\n",
    "disp = ConfusionMatrixDisplay(confusion_matrix=cm_train, display_labels=clf.classes_)\n",
    "disp.plot()\n",
    "plt.show()"
   ]
  },
  {
   "cell_type": "markdown",
   "metadata": {},
   "source": [
    "The confusion matrix for model 1 on the train data set shows 15,983 true 0 values and 853 true 1 values. 310 observations with an outcome of 1 were wrongly predicted as 0 and 144 observations with an outcome of 0 were wrongly predicted as 1."
   ]
  },
  {
   "cell_type": "code",
   "execution_count": 32,
   "metadata": {},
   "outputs": [
    {
     "data": {
      "image/png": "[encoded data removed]",
      "text/plain": [
       "<Figure size 432x288 with 2 Axes>"
      ]
     },
     "metadata": {
      "needs_background": "light"
     },
     "output_type": "display_data"
    }
   ],
   "source": [
    "pred_test = clf.predict(X_test)\n",
    "cm_test = confusion_matrix(y_test, pred_test, labels=clf.classes_)\n",
    "disp = ConfusionMatrixDisplay(confusion_matrix=cm_test, display_labels=clf.classes_)\n",
    "disp.plot()\n",
    "plt.show()"
   ]
  },
  {
   "cell_type": "markdown",
   "metadata": {},
   "source": [
    "On the test data sets, there were 3,962 true 0 values and 239 true 1 values. 90 observations were wrongly predicted as 0 and 32 were wrongly predicted as 1"
   ]
  },
  {
   "cell_type": "code",
   "execution_count": 33,
   "metadata": {},
   "outputs": [
    {
     "data": {
      "text/plain": [
       "(1, 150)"
      ]
     },
     "execution_count": 33,
     "metadata": {},
     "output_type": "execute_result"
    }
   ],
   "source": [
    "# Determining the shape of the coefficient\n",
    "clf.named_steps['classifier'].coef_.shape"
   ]
  },
  {
   "cell_type": "markdown",
   "metadata": {},
   "source": [
    "The shape of the coefficient shows one set of coefficients. A function is created in the next code cell to plot the coefficients. This function would be used in plotting the coefficients in the other models that will be created."
   ]
  },
  {
   "cell_type": "code",
   "execution_count": 34,
   "metadata": {
    "tags": []
   },
   "outputs": [],
   "source": [
    "# Function for plotting the coefficients\n",
    "def coef_plot(model, title=None):\n",
    "    if title:\n",
    "        plt.title(title)\n",
    "# Access model parameters by parameter index in the steps dict and plot    \n",
    "    plt.plot(model.steps[1][1].coef_[0])\n",
    "    plt.show()"
   ]
  },
  {
   "cell_type": "code",
   "execution_count": 35,
   "metadata": {},
   "outputs": [
    {
     "data": {
      "image/png": "[encoded data removed]",
      "text/plain": [
       "<Figure size 432x288 with 1 Axes>"
      ]
     },
     "metadata": {
      "needs_background": "light"
     },
     "output_type": "display_data"
    }
   ],
   "source": [
    "coef_plot(clf, 'L2, C=1.0')"
   ]
  },
  {
   "cell_type": "markdown",
   "metadata": {},
   "source": [
    "The plot of the coefficients shows variations in the magnitude and direction of the model coefficients."
   ]
  },
  {
   "cell_type": "markdown",
   "metadata": {},
   "source": [
    "### Model 2: Lasso regression with C=1.0"
   ]
  },
  {
   "cell_type": "markdown",
   "metadata": {},
   "source": [
    "For lasso regression, the penalty in our classifier model is set to *L1*."
   ]
  },
  {
   "cell_type": "code",
   "execution_count": 36,
   "metadata": {},
   "outputs": [
    {
     "name": "stdout",
     "output_type": "stream",
     "text": [
      "Training score: 0.974\n",
      "Test score: 0.970\n"
     ]
    }
   ],
   "source": [
    "# Classifier for model 2\n",
    "clf_lasmodel_C1 = LogisticRegression(penalty='l1', C=1, solver='saga', max_iter=2000)\n",
    "\n",
    "# Append classifier to preprocessing pipeline\n",
    "clf_l1_C1 = Pipeline(steps=[('preprocessor', preprocessor),\n",
    "                                  ('classifier', clf_lasmodel_C1)])\n",
    "\n",
    "# Fit model on training data\n",
    "clf_l1_C1.fit(X_train, y_train)\n",
    "\n",
    "print(\"Training score: %.3f\" % clf_l1_C1.score(X_train, y_train))\n",
    "print(\"Test score: %.3f\" % clf_l1_C1.score(X_test, y_test))"
   ]
  },
  {
   "cell_type": "markdown",
   "metadata": {},
   "source": [
    "With a score of 97%, the accuracy of model 2 is similar for both the train and test data sets."
   ]
  },
  {
   "cell_type": "code",
   "execution_count": 37,
   "metadata": {},
   "outputs": [
    {
     "data": {
      "image/png": "[encoded data removed]",
      "text/plain": [
       "<Figure size 432x288 with 2 Axes>"
      ]
     },
     "metadata": {
      "needs_background": "light"
     },
     "output_type": "display_data"
    }
   ],
   "source": [
    "pred_train_M2 = clf_l1_C1.predict(X_train)\n",
    "cm_train_M2 = confusion_matrix(y_train, pred_train_M2, labels=clf_l1_C1.classes_)\n",
    "disp_trainM2 = ConfusionMatrixDisplay(confusion_matrix=cm_train_M2, display_labels=clf_l1_C1.classes_)\n",
    "disp_trainM2.plot()\n",
    "plt.show()"
   ]
  },
  {
   "cell_type": "markdown",
   "metadata": {},
   "source": [
    "The confusion matrix for model 2 on the train data set shows 15,981 true 0 values and 868 true 1 values. 295 observations with an outcome of 1 were wrongly predicted as 0 and 146 observations with an outcome of 0 were wrongly predicted as 1."
   ]
  },
  {
   "cell_type": "code",
   "execution_count": 38,
   "metadata": {},
   "outputs": [
    {
     "data": {
      "image/png": "[encoded data removed]",
      "text/plain": [
       "<Figure size 432x288 with 2 Axes>"
      ]
     },
     "metadata": {
      "needs_background": "light"
     },
     "output_type": "display_data"
    }
   ],
   "source": [
    "pred_test_M2 = clf_l1_C1.predict(X_test)\n",
    "cm_test_M2 = confusion_matrix(y_test, pred_test_M2, labels=clf_l1_C1.classes_)\n",
    "disp_testM2 = ConfusionMatrixDisplay(confusion_matrix=cm_test_M2, display_labels=clf_l1_C1.classes_)\n",
    "disp_testM2.plot()\n",
    "plt.show()"
   ]
  },
  {
   "cell_type": "markdown",
   "metadata": {},
   "source": [
    "On the test data sets, there were 3,958 true 0 values and 237 true 1 values. 92 observations were wrongly predicted as 0 and 36 were wrongly predicted as 1"
   ]
  },
  {
   "cell_type": "code",
   "execution_count": 39,
   "metadata": {},
   "outputs": [
    {
     "data": {
      "text/plain": [
       "(1, 150)"
      ]
     },
     "execution_count": 39,
     "metadata": {},
     "output_type": "execute_result"
    }
   ],
   "source": [
    "clf_l1_C1.named_steps['classifier'].coef_.shape"
   ]
  },
  {
   "cell_type": "code",
   "execution_count": 40,
   "metadata": {},
   "outputs": [
    {
     "data": {
      "image/png": "[encoded data removed]",
      "text/plain": [
       "<Figure size 432x288 with 1 Axes>"
      ]
     },
     "metadata": {
      "needs_background": "light"
     },
     "output_type": "display_data"
    }
   ],
   "source": [
    "coef_plot(clf_l1_C1, 'L1, C=1.0')"
   ]
  },
  {
   "cell_type": "markdown",
   "metadata": {},
   "source": [
    "Similar to model 1 (ridge regression), the plot of the coefficients shows variations in the magnitude and direction of the model coefficients. However, the plot shows zero values for some of the model coefficients due to lesser weight on the penalty function for the lasso regression as compared to the ridge regression"
   ]
  },
  {
   "cell_type": "markdown",
   "metadata": {},
   "source": [
    "### Model 3: Lasso regression with C=0.01"
   ]
  },
  {
   "cell_type": "code",
   "execution_count": 41,
   "metadata": {
    "tags": []
   },
   "outputs": [
    {
     "name": "stdout",
     "output_type": "stream",
     "text": [
      "Training score: 0.954\n",
      "Test score: 0.950\n"
     ]
    },
    {
     "name": "stderr",
     "output_type": "stream",
     "text": [
      "C:\\Users\\Students\\anaconda3\\envs\\aap\\lib\\site-packages\\sklearn\\linear_model\\_sag.py:354: ConvergenceWarning: The max_iter was reached which means the coef_ did not converge\n",
      "  ConvergenceWarning,\n"
     ]
    }
   ],
   "source": [
    "# Classifier for model3\n",
    "clf_lasmodel_C01 = LogisticRegression(penalty='l1', C=0.01, solver='saga', max_iter=2000)\n",
    "\n",
    "# Append classifier to preprocessing pipeline\n",
    "clf_l1_C01 = Pipeline(steps=[('preprocessor', preprocessor),\n",
    "                                  ('classifier', clf_lasmodel_C01)])\n",
    "\n",
    "# Fit model on training data\n",
    "clf_l1_C01.fit(X_train, y_train)\n",
    "\n",
    "print(\"Training score: %.3f\" % clf_l1_C01.score(X_train, y_train))\n",
    "print(\"Test score: %.3f\" % clf_l1_C01.score(X_test, y_test))"
   ]
  },
  {
   "cell_type": "markdown",
   "metadata": {},
   "source": [
    "with a *C* value of 0.01, more regulaization is enforced. A score of 95% is achieved for both the train and test data sets."
   ]
  },
  {
   "cell_type": "code",
   "execution_count": 42,
   "metadata": {
    "tags": []
   },
   "outputs": [
    {
     "data": {
      "image/png": "[encoded data removed]",
      "text/plain": [
       "<Figure size 432x288 with 2 Axes>"
      ]
     },
     "metadata": {
      "needs_background": "light"
     },
     "output_type": "display_data"
    }
   ],
   "source": [
    "pred_train_M3 = clf_l1_C01.predict(X_train)\n",
    "cm_train_M3 = confusion_matrix(y_train, pred_train_M3, labels=clf_l1_C01.classes_)\n",
    "disp_trainM3 = ConfusionMatrixDisplay(confusion_matrix=cm_train_M3, display_labels=clf_l1_C01.classes_)\n",
    "disp_trainM3.plot()\n",
    "plt.show()"
   ]
  },
  {
   "cell_type": "markdown",
   "metadata": {},
   "source": [
    "The confusion matrix for model 3 on the train data set shows 16,004 true 0 values and 484 true 1 values. 679 observations with an outcome of 1 were wrongly predicted as 0 and 123 observations with an outcome of 0 were wrongly predicted as 1."
   ]
  },
  {
   "cell_type": "code",
   "execution_count": 43,
   "metadata": {
    "tags": []
   },
   "outputs": [
    {
     "data": {
      "image/png": "[encoded data removed]",
      "text/plain": [
       "<Figure size 432x288 with 2 Axes>"
      ]
     },
     "metadata": {
      "needs_background": "light"
     },
     "output_type": "display_data"
    }
   ],
   "source": [
    "pred_test_M3 = clf_l1_C01.predict(X_test)\n",
    "cm_test_M3 = confusion_matrix(y_test, pred_test_M3, labels=clf_l1_C01.classes_)\n",
    "disp_testM3 = ConfusionMatrixDisplay(confusion_matrix=cm_test_M3, display_labels=clf_l1_C01.classes_)\n",
    "disp_testM3.plot()\n",
    "plt.show()"
   ]
  },
  {
   "cell_type": "markdown",
   "metadata": {},
   "source": [
    "On the test data sets, there were 3,964 true 0 values and 141 true 1 values. 188 observations were wrongly predicted as 0 and 30 were wrongly predicted as 1"
   ]
  },
  {
   "cell_type": "code",
   "execution_count": 44,
   "metadata": {},
   "outputs": [
    {
     "data": {
      "text/plain": [
       "(1, 150)"
      ]
     },
     "execution_count": 44,
     "metadata": {},
     "output_type": "execute_result"
    }
   ],
   "source": [
    "clf_l1_C01.named_steps['classifier'].coef_.shape"
   ]
  },
  {
   "cell_type": "code",
   "execution_count": 45,
   "metadata": {},
   "outputs": [
    {
     "data": {
      "image/png": "[encoded data removed]",
      "text/plain": [
       "<Figure size 432x288 with 1 Axes>"
      ]
     },
     "metadata": {
      "needs_background": "light"
     },
     "output_type": "display_data"
    }
   ],
   "source": [
    "coef_plot(clf_l1_C01, 'L1, C=0.01')"
   ]
  },
  {
   "cell_type": "markdown",
   "metadata": {},
   "source": [
    "With a *C* value < 1, there is more regularization, and reduction of the fit coefficients towards 0. The is also depicted in the plot. "
   ]
  },
  {
   "cell_type": "markdown",
   "metadata": {},
   "source": [
    "### Model 4: Lasso Regression with optimal C value"
   ]
  },
  {
   "cell_type": "code",
   "execution_count": 46,
   "metadata": {
    "tags": []
   },
   "outputs": [
    {
     "name": "stderr",
     "output_type": "stream",
     "text": [
      "C:\\Users\\Students\\anaconda3\\envs\\aap\\lib\\site-packages\\sklearn\\linear_model\\_sag.py:354: ConvergenceWarning: The max_iter was reached which means the coef_ did not converge\n",
      "  ConvergenceWarning,\n"
     ]
    },
    {
     "name": "stdout",
     "output_type": "stream",
     "text": [
      "Training score: 0.975\n",
      "Test score: 0.971\n"
     ]
    }
   ],
   "source": [
    "# Classifier for model 4\n",
    "clf_lasmodel_CV = LogisticRegressionCV(Cs=10, penalty='l1', solver='saga', max_iter=5000)\n",
    "\n",
    "# Append classifier to preprocessing pipeline\n",
    "clf_l1_CV = Pipeline(steps=[('preprocessor', preprocessor),\n",
    "                                  ('classifier', clf_lasmodel_CV)])\n",
    "\n",
    "# Fit model on training data\n",
    "clf_l1_CV.fit(X_train, y_train)\n",
    "\n",
    "print(\"Training score: %.3f\" % clf_l1_CV.score(X_train, y_train))\n",
    "print(\"Test score: %.3f\" % clf_l1_CV.score(X_test, y_test))\n"
   ]
  },
  {
   "cell_type": "markdown",
   "metadata": {},
   "source": [
    "For model 4, the Cs has been set to 10 (which is the default). This provides a grid of C values (<a href=\"https://scikit-learn.org/stable/modules/generated/sklearn.linear_model.LogisticRegressionCV.html\" target=\"_blank\">LogisticRegressionCV</a>). Cs was also set to 5, and there was no much difference in the model results, however, it solves faster. max_iter has been set to 5000 to enable convergence as the model solves with different values of C. A lower value of max_iter gives a similar result, and the model solves faster. However, it shows a lot of convergence warnings as it solves with the different hyperparameters"
   ]
  },
  {
   "cell_type": "code",
   "execution_count": 47,
   "metadata": {},
   "outputs": [
    {
     "data": {
      "image/png": "[encoded data removed]",
      "text/plain": [
       "<Figure size 432x288 with 2 Axes>"
      ]
     },
     "metadata": {
      "needs_background": "light"
     },
     "output_type": "display_data"
    }
   ],
   "source": [
    "pred_train_M4 = clf_l1_CV.predict(X_train)\n",
    "cm_train_M4 = confusion_matrix(y_train, pred_train_M4, labels=clf_l1_CV.classes_)\n",
    "disp_trainM4 = ConfusionMatrixDisplay(confusion_matrix=cm_train_M4, display_labels=clf_l1_CV.classes_)\n",
    "disp_trainM4.plot()\n",
    "plt.show()"
   ]
  },
  {
   "cell_type": "markdown",
   "metadata": {},
   "source": [
    "The confusion matrix for model 4 on the train data set shows 15,978 true 0 values and 879 true 1 values. 284 observations with an outcome of 1 were wrongly predicted as 0 and 149 observations with an outcome of 0 were wrongly predicted as 1."
   ]
  },
  {
   "cell_type": "code",
   "execution_count": 48,
   "metadata": {},
   "outputs": [
    {
     "data": {
      "image/png": "[encoded data removed]",
      "text/plain": [
       "<Figure size 432x288 with 2 Axes>"
      ]
     },
     "metadata": {
      "needs_background": "light"
     },
     "output_type": "display_data"
    }
   ],
   "source": [
    "pred_test_M4 = clf_l1_CV.predict(X_test)\n",
    "cm_test_M4 = confusion_matrix(y_test, pred_test_M4, labels=clf_l1_CV.classes_)\n",
    "disp_testM4 = ConfusionMatrixDisplay(confusion_matrix=cm_test_M4, display_labels=clf_l1_CV.classes_)\n",
    "disp_testM4.plot()\n",
    "plt.show()"
   ]
  },
  {
   "cell_type": "markdown",
   "metadata": {},
   "source": [
    "On the test data sets, there were 3,958 true 0 values and 240 true 1 values. 89 observations were wrongly predicted as 0 and 36 were wrongly predicted as 1"
   ]
  },
  {
   "cell_type": "code",
   "execution_count": 49,
   "metadata": {},
   "outputs": [
    {
     "data": {
      "text/plain": [
       "(1, 150)"
      ]
     },
     "execution_count": 49,
     "metadata": {},
     "output_type": "execute_result"
    }
   ],
   "source": [
    "clf_l1_CV.named_steps['classifier'].coef_.shape"
   ]
  },
  {
   "cell_type": "code",
   "execution_count": 50,
   "metadata": {},
   "outputs": [
    {
     "data": {
      "image/png": "[encoded data removed]",
      "text/plain": [
       "<Figure size 432x288 with 1 Axes>"
      ]
     },
     "metadata": {
      "needs_background": "light"
     },
     "output_type": "display_data"
    }
   ],
   "source": [
    "coef_plot(clf_l1_CV, 'L1, CV')"
   ]
  },
  {
   "cell_type": "markdown",
   "metadata": {},
   "source": [
    "From the plot, it can be determined that there is less regularization in model 4. We can determine the C values used in this model to examine the influence of regularization on this model"
   ]
  },
  {
   "cell_type": "code",
   "execution_count": 51,
   "metadata": {},
   "outputs": [
    {
     "name": "stdout",
     "output_type": "stream",
     "text": [
      "C values: [1.00000000e-04 7.74263683e-04 5.99484250e-03 4.64158883e-02\n",
      " 3.59381366e-01 2.78255940e+00 2.15443469e+01 1.66810054e+02\n",
      " 1.29154967e+03 1.00000000e+04]\n"
     ]
    }
   ],
   "source": [
    "# Access model parameters by parameter name in the named_steps dict \n",
    "print(f\"C values: {clf_l1_CV.named_steps['classifier'].Cs_}\")"
   ]
  },
  {
   "cell_type": "code",
   "execution_count": 52,
   "metadata": {},
   "outputs": [
    {
     "name": "stdout",
     "output_type": "stream",
     "text": [
      "Optimal value of C: 2.783\n"
     ]
    }
   ],
   "source": [
    "print(\"Optimal value of C: %.3f\" % clf_l1_CV.named_steps['classifier'].C_)"
   ]
  },
  {
   "cell_type": "markdown",
   "metadata": {},
   "source": [
    "The optimal value of C used in this model is 2.783, which is greater that 1. There is less regularization in this model"
   ]
  },
  {
   "cell_type": "markdown",
   "metadata": {
    "tags": []
   },
   "source": [
    "### Random forest model"
   ]
  },
  {
   "cell_type": "code",
   "execution_count": 53,
   "metadata": {},
   "outputs": [],
   "source": [
    "from sklearn.ensemble import RandomForestClassifier"
   ]
  },
  {
   "cell_type": "code",
   "execution_count": 54,
   "metadata": {},
   "outputs": [
    {
     "name": "stdout",
     "output_type": "stream",
     "text": [
      "Random forest model score: 1.000\n",
      "Random forest model score: 0.969\n"
     ]
    }
   ],
   "source": [
    "# Random forest classifier\n",
    "clf_rf_class = RandomForestClassifier(oob_score=True, random_state=0)\n",
    "\n",
    "# Append classifier to preprocessing pipeline\n",
    "clf_rf = Pipeline(steps=[('preprocessor', preprocessor),\n",
    "                         ('classifier', clf_rf_class)])\n",
    "\n",
    "# Fit model on training data\n",
    "clf_rf.fit(X_train, y_train)\n",
    "print(\"Random forest model score: %.3f\" % clf_rf.score(X_train, y_train))\n",
    "print(\"Random forest model score: %.3f\" % clf_rf.score(X_test, y_test))"
   ]
  },
  {
   "cell_type": "markdown",
   "metadata": {},
   "source": [
    "The random forest model scores 100% accuracy on the training data, and 96.9% accuracy on the test data"
   ]
  },
  {
   "cell_type": "code",
   "execution_count": 55,
   "metadata": {},
   "outputs": [
    {
     "data": {
      "image/png": "[encoded data removed]",
      "text/plain": [
       "<Figure size 432x288 with 2 Axes>"
      ]
     },
     "metadata": {
      "needs_background": "light"
     },
     "output_type": "display_data"
    }
   ],
   "source": [
    "pred_train_rf = clf_rf.predict(X_train)\n",
    "cm_train_rf = confusion_matrix(y_train, pred_train_rf, labels=clf_rf.classes_)\n",
    "disp_train_rf = ConfusionMatrixDisplay(confusion_matrix=cm_train_rf, display_labels=clf_rf.classes_)\n",
    "disp_train_rf.plot()\n",
    "plt.show()"
   ]
  },
  {
   "cell_type": "code",
   "execution_count": 56,
   "metadata": {},
   "outputs": [
    {
     "data": {
      "image/png": "[encoded data removed]",
      "text/plain": [
       "<Figure size 432x288 with 2 Axes>"
      ]
     },
     "metadata": {
      "needs_background": "light"
     },
     "output_type": "display_data"
    }
   ],
   "source": [
    "pred_test_rf = clf_rf.predict(X_test)\n",
    "cm_test_rf = confusion_matrix(y_test, pred_test_rf, labels=clf_rf.classes_)\n",
    "disp_test_rf = ConfusionMatrixDisplay(confusion_matrix=cm_test_rf, display_labels=clf_rf.classes_)\n",
    "disp_test_rf.plot()\n",
    "plt.show()"
   ]
  },
  {
   "cell_type": "markdown",
   "metadata": {},
   "source": [
    "There will be no coefficient plot for a random forest model because random forests have no coefficients. Instead, random forests fit multiple decision trees on various sub-samples of the datasets (<a href=\"https://scikit-learn.org/stable/modules/generated/sklearn.ensemble.RandomForestClassifier.html\" target=\"_blank\">RandomForestClassifier</a>)"
   ]
  },
  {
   "cell_type": "markdown",
   "metadata": {
    "tags": []
   },
   "source": [
    "## A little error exploration"
   ]
  },
  {
   "cell_type": "code",
   "execution_count": 57,
   "metadata": {},
   "outputs": [],
   "source": [
    "# Read csv file with price\n",
    "housing_reg_df = pd.read_csv(\"./data/kc_house_data_regression.csv\")"
   ]
  },
  {
   "cell_type": "code",
   "execution_count": 58,
   "metadata": {},
   "outputs": [
    {
     "name": "stdout",
     "output_type": "stream",
     "text": [
      "<class 'pandas.core.frame.DataFrame'>\n",
      "RangeIndex: 21613 entries, 0 to 21612\n",
      "Data columns (total 18 columns):\n",
      " #   Column         Non-Null Count  Dtype  \n",
      "---  ------         --------------  -----  \n",
      " 0   bedrooms       21613 non-null  int64  \n",
      " 1   bathrooms      21613 non-null  float64\n",
      " 2   sqft_living    21613 non-null  int64  \n",
      " 3   sqft_lot       21613 non-null  int64  \n",
      " 4   floors         21613 non-null  float64\n",
      " 5   waterfront     21613 non-null  int64  \n",
      " 6   view           21613 non-null  int64  \n",
      " 7   condition      21613 non-null  int64  \n",
      " 8   grade          21613 non-null  int64  \n",
      " 9   sqft_above     21613 non-null  int64  \n",
      " 10  sqft_basement  21613 non-null  int64  \n",
      " 11  yr_built       21613 non-null  int64  \n",
      " 12  yr_renovated   21613 non-null  int64  \n",
      " 13  zipcode        21613 non-null  int64  \n",
      " 14  lat            21613 non-null  float64\n",
      " 15  long           21613 non-null  float64\n",
      " 16  sqft_living15  21613 non-null  int64  \n",
      " 17  price          21613 non-null  float64\n",
      "dtypes: float64(5), int64(13)\n",
      "memory usage: 3.0 MB\n"
     ]
    }
   ],
   "source": [
    "housing_reg_df.info()"
   ]
  },
  {
   "cell_type": "code",
   "execution_count": 59,
   "metadata": {},
   "outputs": [
    {
     "data": {
      "image/png": "[encoded data removed]",
      "text/plain": [
       "<Figure size 432x288 with 2 Axes>"
      ]
     },
     "metadata": {
      "needs_background": "light"
     },
     "output_type": "display_data"
    }
   ],
   "source": [
    "# Display confusion matrix for model 2\n",
    "disp_testM2.plot()\n",
    "plt.show()"
   ]
  },
  {
   "cell_type": "markdown",
   "metadata": {},
   "source": [
    "From the confusion matrix, we can determine the total number of wrong predictions as 128. To find the corresponding price values for these wrong predictions, a join of the test, predicted and price arrays is required. To enable this, a conversion of these arrays to panda's data frames is required."
   ]
  },
  {
   "cell_type": "code",
   "execution_count": 60,
   "metadata": {},
   "outputs": [
    {
     "data": {
      "text/html": [
       "<div>\n",
       "<style scoped>\n",
       "    .dataframe tbody tr th:only-of-type {\n",
       "        vertical-align: middle;\n",
       "    }\n",
       "\n",
       "    .dataframe tbody tr th {\n",
       "        vertical-align: top;\n",
       "    }\n",
       "\n",
       "    .dataframe thead th {\n",
       "        text-align: right;\n",
       "    }\n",
       "</style>\n",
       "<table border=\"1\" class=\"dataframe\">\n",
       "  <thead>\n",
       "    <tr style=\"text-align: right;\">\n",
       "      <th></th>\n",
       "      <th>price_gt_1M</th>\n",
       "    </tr>\n",
       "  </thead>\n",
       "  <tbody>\n",
       "    <tr>\n",
       "      <th>13473</th>\n",
       "      <td>0</td>\n",
       "    </tr>\n",
       "    <tr>\n",
       "      <th>9626</th>\n",
       "      <td>0</td>\n",
       "    </tr>\n",
       "    <tr>\n",
       "      <th>21376</th>\n",
       "      <td>0</td>\n",
       "    </tr>\n",
       "    <tr>\n",
       "      <th>9036</th>\n",
       "      <td>0</td>\n",
       "    </tr>\n",
       "    <tr>\n",
       "      <th>1007</th>\n",
       "      <td>0</td>\n",
       "    </tr>\n",
       "    <tr>\n",
       "      <th>...</th>\n",
       "      <td>...</td>\n",
       "    </tr>\n",
       "    <tr>\n",
       "      <th>662</th>\n",
       "      <td>0</td>\n",
       "    </tr>\n",
       "    <tr>\n",
       "      <th>16297</th>\n",
       "      <td>0</td>\n",
       "    </tr>\n",
       "    <tr>\n",
       "      <th>1390</th>\n",
       "      <td>0</td>\n",
       "    </tr>\n",
       "    <tr>\n",
       "      <th>3546</th>\n",
       "      <td>0</td>\n",
       "    </tr>\n",
       "    <tr>\n",
       "      <th>18167</th>\n",
       "      <td>0</td>\n",
       "    </tr>\n",
       "  </tbody>\n",
       "</table>\n",
       "<p>4323 rows × 1 columns</p>\n",
       "</div>"
      ],
      "text/plain": [
       "       price_gt_1M\n",
       "13473            0\n",
       "9626             0\n",
       "21376            0\n",
       "9036             0\n",
       "1007             0\n",
       "...            ...\n",
       "662              0\n",
       "16297            0\n",
       "1390             0\n",
       "3546             0\n",
       "18167            0\n",
       "\n",
       "[4323 rows x 1 columns]"
      ]
     },
     "execution_count": 60,
     "metadata": {},
     "output_type": "execute_result"
    }
   ],
   "source": [
    "# Convert test array to panda data frame\n",
    "test_array = pd.DataFrame(y_test)\n",
    "test_array"
   ]
  },
  {
   "cell_type": "markdown",
   "metadata": {},
   "source": [
    "Unlike y_test, the predicted test values do not have indices, which is required to join both data frames. We can assigned the indices for the test array to the predicted array."
   ]
  },
  {
   "cell_type": "code",
   "execution_count": 61,
   "metadata": {},
   "outputs": [
    {
     "data": {
      "text/html": [
       "<div>\n",
       "<style scoped>\n",
       "    .dataframe tbody tr th:only-of-type {\n",
       "        vertical-align: middle;\n",
       "    }\n",
       "\n",
       "    .dataframe tbody tr th {\n",
       "        vertical-align: top;\n",
       "    }\n",
       "\n",
       "    .dataframe thead th {\n",
       "        text-align: right;\n",
       "    }\n",
       "</style>\n",
       "<table border=\"1\" class=\"dataframe\">\n",
       "  <thead>\n",
       "    <tr style=\"text-align: right;\">\n",
       "      <th></th>\n",
       "      <th>Predicted</th>\n",
       "    </tr>\n",
       "  </thead>\n",
       "  <tbody>\n",
       "    <tr>\n",
       "      <th>13473</th>\n",
       "      <td>0</td>\n",
       "    </tr>\n",
       "    <tr>\n",
       "      <th>9626</th>\n",
       "      <td>0</td>\n",
       "    </tr>\n",
       "    <tr>\n",
       "      <th>21376</th>\n",
       "      <td>0</td>\n",
       "    </tr>\n",
       "    <tr>\n",
       "      <th>9036</th>\n",
       "      <td>0</td>\n",
       "    </tr>\n",
       "    <tr>\n",
       "      <th>1007</th>\n",
       "      <td>0</td>\n",
       "    </tr>\n",
       "    <tr>\n",
       "      <th>...</th>\n",
       "      <td>...</td>\n",
       "    </tr>\n",
       "    <tr>\n",
       "      <th>662</th>\n",
       "      <td>0</td>\n",
       "    </tr>\n",
       "    <tr>\n",
       "      <th>16297</th>\n",
       "      <td>0</td>\n",
       "    </tr>\n",
       "    <tr>\n",
       "      <th>1390</th>\n",
       "      <td>0</td>\n",
       "    </tr>\n",
       "    <tr>\n",
       "      <th>3546</th>\n",
       "      <td>0</td>\n",
       "    </tr>\n",
       "    <tr>\n",
       "      <th>18167</th>\n",
       "      <td>0</td>\n",
       "    </tr>\n",
       "  </tbody>\n",
       "</table>\n",
       "<p>4323 rows × 1 columns</p>\n",
       "</div>"
      ],
      "text/plain": [
       "       Predicted\n",
       "13473          0\n",
       "9626           0\n",
       "21376          0\n",
       "9036           0\n",
       "1007           0\n",
       "...          ...\n",
       "662            0\n",
       "16297          0\n",
       "1390           0\n",
       "3546           0\n",
       "18167          0\n",
       "\n",
       "[4323 rows x 1 columns]"
      ]
     },
     "execution_count": 61,
     "metadata": {},
     "output_type": "execute_result"
    }
   ],
   "source": [
    "# Convert array of predicted test values of model 2 to panda's data frame\n",
    "pred_array = pd.DataFrame(pred_test_M2, index=test_array.index)\n",
    "\n",
    "# Rename column\n",
    "pred_array.rename(columns = {0: 'Predicted'}, inplace=True)\n",
    "pred_array"
   ]
  },
  {
   "cell_type": "code",
   "execution_count": 62,
   "metadata": {},
   "outputs": [
    {
     "data": {
      "text/html": [
       "<div>\n",
       "<style scoped>\n",
       "    .dataframe tbody tr th:only-of-type {\n",
       "        vertical-align: middle;\n",
       "    }\n",
       "\n",
       "    .dataframe tbody tr th {\n",
       "        vertical-align: top;\n",
       "    }\n",
       "\n",
       "    .dataframe thead th {\n",
       "        text-align: right;\n",
       "    }\n",
       "</style>\n",
       "<table border=\"1\" class=\"dataframe\">\n",
       "  <thead>\n",
       "    <tr style=\"text-align: right;\">\n",
       "      <th></th>\n",
       "      <th>price</th>\n",
       "    </tr>\n",
       "  </thead>\n",
       "  <tbody>\n",
       "    <tr>\n",
       "      <th>0</th>\n",
       "      <td>221900.0</td>\n",
       "    </tr>\n",
       "    <tr>\n",
       "      <th>1</th>\n",
       "      <td>538000.0</td>\n",
       "    </tr>\n",
       "    <tr>\n",
       "      <th>2</th>\n",
       "      <td>180000.0</td>\n",
       "    </tr>\n",
       "    <tr>\n",
       "      <th>3</th>\n",
       "      <td>604000.0</td>\n",
       "    </tr>\n",
       "    <tr>\n",
       "      <th>4</th>\n",
       "      <td>510000.0</td>\n",
       "    </tr>\n",
       "    <tr>\n",
       "      <th>...</th>\n",
       "      <td>...</td>\n",
       "    </tr>\n",
       "    <tr>\n",
       "      <th>21608</th>\n",
       "      <td>360000.0</td>\n",
       "    </tr>\n",
       "    <tr>\n",
       "      <th>21609</th>\n",
       "      <td>400000.0</td>\n",
       "    </tr>\n",
       "    <tr>\n",
       "      <th>21610</th>\n",
       "      <td>402101.0</td>\n",
       "    </tr>\n",
       "    <tr>\n",
       "      <th>21611</th>\n",
       "      <td>400000.0</td>\n",
       "    </tr>\n",
       "    <tr>\n",
       "      <th>21612</th>\n",
       "      <td>325000.0</td>\n",
       "    </tr>\n",
       "  </tbody>\n",
       "</table>\n",
       "<p>21613 rows × 1 columns</p>\n",
       "</div>"
      ],
      "text/plain": [
       "          price\n",
       "0      221900.0\n",
       "1      538000.0\n",
       "2      180000.0\n",
       "3      604000.0\n",
       "4      510000.0\n",
       "...         ...\n",
       "21608  360000.0\n",
       "21609  400000.0\n",
       "21610  402101.0\n",
       "21611  400000.0\n",
       "21612  325000.0\n",
       "\n",
       "[21613 rows x 1 columns]"
      ]
     },
     "execution_count": 62,
     "metadata": {},
     "output_type": "execute_result"
    }
   ],
   "source": [
    "# Assign price to a panda's df\n",
    "price_array = pd.DataFrame(housing_reg_df.iloc[:,17])\n",
    "price_array"
   ]
  },
  {
   "cell_type": "code",
   "execution_count": 63,
   "metadata": {},
   "outputs": [
    {
     "data": {
      "text/html": [
       "<div>\n",
       "<style scoped>\n",
       "    .dataframe tbody tr th:only-of-type {\n",
       "        vertical-align: middle;\n",
       "    }\n",
       "\n",
       "    .dataframe tbody tr th {\n",
       "        vertical-align: top;\n",
       "    }\n",
       "\n",
       "    .dataframe thead th {\n",
       "        text-align: right;\n",
       "    }\n",
       "</style>\n",
       "<table border=\"1\" class=\"dataframe\">\n",
       "  <thead>\n",
       "    <tr style=\"text-align: right;\">\n",
       "      <th></th>\n",
       "      <th>price_gt_1M</th>\n",
       "      <th>Predicted</th>\n",
       "    </tr>\n",
       "  </thead>\n",
       "  <tbody>\n",
       "    <tr>\n",
       "      <th>13473</th>\n",
       "      <td>0</td>\n",
       "      <td>0</td>\n",
       "    </tr>\n",
       "    <tr>\n",
       "      <th>9626</th>\n",
       "      <td>0</td>\n",
       "      <td>0</td>\n",
       "    </tr>\n",
       "    <tr>\n",
       "      <th>21376</th>\n",
       "      <td>0</td>\n",
       "      <td>0</td>\n",
       "    </tr>\n",
       "    <tr>\n",
       "      <th>9036</th>\n",
       "      <td>0</td>\n",
       "      <td>0</td>\n",
       "    </tr>\n",
       "    <tr>\n",
       "      <th>1007</th>\n",
       "      <td>0</td>\n",
       "      <td>0</td>\n",
       "    </tr>\n",
       "    <tr>\n",
       "      <th>...</th>\n",
       "      <td>...</td>\n",
       "      <td>...</td>\n",
       "    </tr>\n",
       "    <tr>\n",
       "      <th>662</th>\n",
       "      <td>0</td>\n",
       "      <td>0</td>\n",
       "    </tr>\n",
       "    <tr>\n",
       "      <th>16297</th>\n",
       "      <td>0</td>\n",
       "      <td>0</td>\n",
       "    </tr>\n",
       "    <tr>\n",
       "      <th>1390</th>\n",
       "      <td>0</td>\n",
       "      <td>0</td>\n",
       "    </tr>\n",
       "    <tr>\n",
       "      <th>3546</th>\n",
       "      <td>0</td>\n",
       "      <td>0</td>\n",
       "    </tr>\n",
       "    <tr>\n",
       "      <th>18167</th>\n",
       "      <td>0</td>\n",
       "      <td>0</td>\n",
       "    </tr>\n",
       "  </tbody>\n",
       "</table>\n",
       "<p>4323 rows × 2 columns</p>\n",
       "</div>"
      ],
      "text/plain": [
       "       price_gt_1M  Predicted\n",
       "13473            0          0\n",
       "9626             0          0\n",
       "21376            0          0\n",
       "9036             0          0\n",
       "1007             0          0\n",
       "...            ...        ...\n",
       "662              0          0\n",
       "16297            0          0\n",
       "1390             0          0\n",
       "3546             0          0\n",
       "18167            0          0\n",
       "\n",
       "[4323 rows x 2 columns]"
      ]
     },
     "execution_count": 63,
     "metadata": {},
     "output_type": "execute_result"
    }
   ],
   "source": [
    "# Join predicted and test df\n",
    "pred_test_join = test_array.merge(pred_array, how='inner', left_index=True, right_index=True)\n",
    "pred_test_join"
   ]
  },
  {
   "cell_type": "code",
   "execution_count": 64,
   "metadata": {},
   "outputs": [
    {
     "data": {
      "text/html": [
       "<div>\n",
       "<style scoped>\n",
       "    .dataframe tbody tr th:only-of-type {\n",
       "        vertical-align: middle;\n",
       "    }\n",
       "\n",
       "    .dataframe tbody tr th {\n",
       "        vertical-align: top;\n",
       "    }\n",
       "\n",
       "    .dataframe thead th {\n",
       "        text-align: right;\n",
       "    }\n",
       "</style>\n",
       "<table border=\"1\" class=\"dataframe\">\n",
       "  <thead>\n",
       "    <tr style=\"text-align: right;\">\n",
       "      <th></th>\n",
       "      <th>price_gt_1M</th>\n",
       "      <th>Predicted</th>\n",
       "      <th>price</th>\n",
       "    </tr>\n",
       "  </thead>\n",
       "  <tbody>\n",
       "    <tr>\n",
       "      <th>13473</th>\n",
       "      <td>0</td>\n",
       "      <td>0</td>\n",
       "      <td>257000.0</td>\n",
       "    </tr>\n",
       "    <tr>\n",
       "      <th>9626</th>\n",
       "      <td>0</td>\n",
       "      <td>0</td>\n",
       "      <td>201000.0</td>\n",
       "    </tr>\n",
       "    <tr>\n",
       "      <th>21376</th>\n",
       "      <td>0</td>\n",
       "      <td>0</td>\n",
       "      <td>365000.0</td>\n",
       "    </tr>\n",
       "    <tr>\n",
       "      <th>9036</th>\n",
       "      <td>0</td>\n",
       "      <td>0</td>\n",
       "      <td>667000.0</td>\n",
       "    </tr>\n",
       "    <tr>\n",
       "      <th>1007</th>\n",
       "      <td>0</td>\n",
       "      <td>0</td>\n",
       "      <td>325000.0</td>\n",
       "    </tr>\n",
       "    <tr>\n",
       "      <th>...</th>\n",
       "      <td>...</td>\n",
       "      <td>...</td>\n",
       "      <td>...</td>\n",
       "    </tr>\n",
       "    <tr>\n",
       "      <th>662</th>\n",
       "      <td>0</td>\n",
       "      <td>0</td>\n",
       "      <td>475000.0</td>\n",
       "    </tr>\n",
       "    <tr>\n",
       "      <th>16297</th>\n",
       "      <td>0</td>\n",
       "      <td>0</td>\n",
       "      <td>615000.0</td>\n",
       "    </tr>\n",
       "    <tr>\n",
       "      <th>1390</th>\n",
       "      <td>0</td>\n",
       "      <td>0</td>\n",
       "      <td>651000.0</td>\n",
       "    </tr>\n",
       "    <tr>\n",
       "      <th>3546</th>\n",
       "      <td>0</td>\n",
       "      <td>0</td>\n",
       "      <td>436000.0</td>\n",
       "    </tr>\n",
       "    <tr>\n",
       "      <th>18167</th>\n",
       "      <td>0</td>\n",
       "      <td>0</td>\n",
       "      <td>417000.0</td>\n",
       "    </tr>\n",
       "  </tbody>\n",
       "</table>\n",
       "<p>4323 rows × 3 columns</p>\n",
       "</div>"
      ],
      "text/plain": [
       "       price_gt_1M  Predicted     price\n",
       "13473            0          0  257000.0\n",
       "9626             0          0  201000.0\n",
       "21376            0          0  365000.0\n",
       "9036             0          0  667000.0\n",
       "1007             0          0  325000.0\n",
       "...            ...        ...       ...\n",
       "662              0          0  475000.0\n",
       "16297            0          0  615000.0\n",
       "1390             0          0  651000.0\n",
       "3546             0          0  436000.0\n",
       "18167            0          0  417000.0\n",
       "\n",
       "[4323 rows x 3 columns]"
      ]
     },
     "execution_count": 64,
     "metadata": {},
     "output_type": "execute_result"
    }
   ],
   "source": [
    "# Join price df to predicted and test df\n",
    "pred_test_price = pred_test_join.merge(price_array, how='inner', left_index=True, right_index=True)\n",
    "pred_test_price"
   ]
  },
  {
   "cell_type": "markdown",
   "metadata": {},
   "source": [
    "With a data frame containing test and predicted values with the price, wrong predictions can be determined by finding observations where predicted is not equal to test"
   ]
  },
  {
   "cell_type": "code",
   "execution_count": 65,
   "metadata": {},
   "outputs": [
    {
     "data": {
      "text/html": [
       "<div>\n",
       "<style scoped>\n",
       "    .dataframe tbody tr th:only-of-type {\n",
       "        vertical-align: middle;\n",
       "    }\n",
       "\n",
       "    .dataframe tbody tr th {\n",
       "        vertical-align: top;\n",
       "    }\n",
       "\n",
       "    .dataframe thead th {\n",
       "        text-align: right;\n",
       "    }\n",
       "</style>\n",
       "<table border=\"1\" class=\"dataframe\">\n",
       "  <thead>\n",
       "    <tr style=\"text-align: right;\">\n",
       "      <th></th>\n",
       "      <th>price_gt_1M</th>\n",
       "      <th>Predicted</th>\n",
       "      <th>price</th>\n",
       "    </tr>\n",
       "  </thead>\n",
       "  <tbody>\n",
       "    <tr>\n",
       "      <th>4937</th>\n",
       "      <td>1</td>\n",
       "      <td>0</td>\n",
       "      <td>1400000.0</td>\n",
       "    </tr>\n",
       "    <tr>\n",
       "      <th>16888</th>\n",
       "      <td>0</td>\n",
       "      <td>1</td>\n",
       "      <td>995000.0</td>\n",
       "    </tr>\n",
       "    <tr>\n",
       "      <th>12591</th>\n",
       "      <td>1</td>\n",
       "      <td>0</td>\n",
       "      <td>1075000.0</td>\n",
       "    </tr>\n",
       "    <tr>\n",
       "      <th>11947</th>\n",
       "      <td>1</td>\n",
       "      <td>0</td>\n",
       "      <td>1150000.0</td>\n",
       "    </tr>\n",
       "    <tr>\n",
       "      <th>11421</th>\n",
       "      <td>1</td>\n",
       "      <td>0</td>\n",
       "      <td>1017000.0</td>\n",
       "    </tr>\n",
       "    <tr>\n",
       "      <th>...</th>\n",
       "      <td>...</td>\n",
       "      <td>...</td>\n",
       "      <td>...</td>\n",
       "    </tr>\n",
       "    <tr>\n",
       "      <th>1807</th>\n",
       "      <td>0</td>\n",
       "      <td>1</td>\n",
       "      <td>930000.0</td>\n",
       "    </tr>\n",
       "    <tr>\n",
       "      <th>9278</th>\n",
       "      <td>0</td>\n",
       "      <td>1</td>\n",
       "      <td>780000.0</td>\n",
       "    </tr>\n",
       "    <tr>\n",
       "      <th>8539</th>\n",
       "      <td>1</td>\n",
       "      <td>0</td>\n",
       "      <td>1208000.0</td>\n",
       "    </tr>\n",
       "    <tr>\n",
       "      <th>4892</th>\n",
       "      <td>0</td>\n",
       "      <td>1</td>\n",
       "      <td>952000.0</td>\n",
       "    </tr>\n",
       "    <tr>\n",
       "      <th>21179</th>\n",
       "      <td>1</td>\n",
       "      <td>0</td>\n",
       "      <td>1050000.0</td>\n",
       "    </tr>\n",
       "  </tbody>\n",
       "</table>\n",
       "<p>128 rows × 3 columns</p>\n",
       "</div>"
      ],
      "text/plain": [
       "       price_gt_1M  Predicted      price\n",
       "4937             1          0  1400000.0\n",
       "16888            0          1   995000.0\n",
       "12591            1          0  1075000.0\n",
       "11947            1          0  1150000.0\n",
       "11421            1          0  1017000.0\n",
       "...            ...        ...        ...\n",
       "1807             0          1   930000.0\n",
       "9278             0          1   780000.0\n",
       "8539             1          0  1208000.0\n",
       "4892             0          1   952000.0\n",
       "21179            1          0  1050000.0\n",
       "\n",
       "[128 rows x 3 columns]"
      ]
     },
     "execution_count": 65,
     "metadata": {},
     "output_type": "execute_result"
    }
   ],
   "source": [
    "# Price values for all predictions not equal to test(price_gt_1M)\n",
    "price_false_pred = pred_test_price.loc[pred_test_price['price_gt_1M'] != pred_test_price['Predicted']]\n",
    "price_false_pred"
   ]
  },
  {
   "cell_type": "code",
   "execution_count": 66,
   "metadata": {},
   "outputs": [
    {
     "data": {
      "text/plain": [
       "array([[<AxesSubplot:title={'center':'price'}>]], dtype=object)"
      ]
     },
     "execution_count": 66,
     "metadata": {},
     "output_type": "execute_result"
    },
    {
     "data": {
      "image/png": "[encoded data removed]",
      "text/plain": [
       "<Figure size 432x288 with 1 Axes>"
      ]
     },
     "metadata": {
      "needs_background": "light"
     },
     "output_type": "display_data"
    }
   ],
   "source": [
    "# Plot Histogram\n",
    "price_false_pred.hist(column = 'price')"
   ]
  },
  {
   "cell_type": "markdown",
   "metadata": {},
   "source": [
    "From the histogram, it can be determined that most of the wrong predictions for model 2 are for values greater than 1 million."
   ]
  }
 ],
 "metadata": {
  "kernelspec": {
   "display_name": "Python [conda env:aap]",
   "language": "python",
   "name": "conda-env-aap-py"
  },
  "language_info": {
   "codemirror_mode": {
    "name": "ipython",
    "version": 3
   },
   "file_extension": ".py",
   "mimetype": "text/x-python",
   "name": "python",
   "nbconvert_exporter": "python",
   "pygments_lexer": "ipython3",
   "version": "3.7.13"
  },
  "toc-autonumbering": true
 },
 "nbformat": 4,
 "nbformat_minor": 4
}
